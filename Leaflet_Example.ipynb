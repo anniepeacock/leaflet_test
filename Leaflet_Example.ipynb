{
 "cells": [
  {
   "cell_type": "code",
   "execution_count": 16,
   "metadata": {},
   "outputs": [],
   "source": [
    "from ipyleaflet import Map, basemaps, basemap_to_tiles, SplitMapControl, FullScreenControl\n",
    "import ipywidgets as widgets\n",
    "from ipywidgets import AppLayout, Button, Layout, HTML\n",
    "from pathlib import Path\n",
    "from typing import *\n",
    "import os"
   ]
  },
  {
   "cell_type": "markdown",
   "metadata": {},
   "source": [
    "# Example Jupyter Notebook\n",
    "\n",
    "## You can see ipyleaflets interactive maps\n",
    "\n",
    "This map uses publically available tiled map layers"
   ]
  },
  {
   "cell_type": "code",
   "execution_count": 17,
   "metadata": {},
   "outputs": [
    {
     "data": {
      "application/vnd.jupyter.widget-view+json": {
       "model_id": "daead8b17891400aab2e8cfce79108ff",
       "version_major": 2,
       "version_minor": 0
      },
      "text/plain": [
       "Map(basemap={'url': 'https://{s}.tile.openstreetmap.org/{z}/{x}/{y}.png', 'max_zoom': 19, 'attribution': 'Map …"
      ]
     },
     "metadata": {},
     "output_type": "display_data"
    }
   ],
   "source": [
    "# Source ipyleaflets split screen docs\n",
    "\n",
    "m = Map(center=(42.6824, 365.581), zoom=5)\n",
    "\n",
    "right_layer = basemap_to_tiles(basemaps.NASAGIBS.ModisTerraTrueColorCR, \"2017-11-11\")\n",
    "left_layer = basemap_to_tiles(basemaps.NASAGIBS.ModisAquaBands721CR, \"2017-11-11\")\n",
    "\n",
    "control = SplitMapControl(left_layer=left_layer, right_layer=right_layer)\n",
    "m.add_control(control)\n",
    "m.add_control(FullScreenControl())\n",
    "\n",
    "m"
   ]
  },
  {
   "cell_type": "markdown",
   "metadata": {},
   "source": [
    "# Example Slideshow Jupyter Notebook\n",
    "\n",
    "### Pictures of UAVSAR Flooding\n",
    "\n",
    "These are from the Pictures folder in the repository"
   ]
  },
  {
   "cell_type": "code",
   "execution_count": 20,
   "metadata": {},
   "outputs": [
    {
     "ename": "ValueError",
     "evalue": "No image for format png found in directory /Users/peacock/Desktop/leaflet_test/Pictures.",
     "output_type": "error",
     "traceback": [
      "\u001b[0;31m---------------------------------------------------------------------------\u001b[0m",
      "\u001b[0;31mValueError\u001b[0m                                Traceback (most recent call last)",
      "\u001b[0;32m<ipython-input-20-3d28d16b8b46>\u001b[0m in \u001b[0;36m<module>\u001b[0;34m\u001b[0m\n\u001b[1;32m     96\u001b[0m     \u001b[0;32mreturn\u001b[0m \u001b[0mapp\u001b[0m\u001b[0;34m\u001b[0m\u001b[0;34m\u001b[0m\u001b[0m\n\u001b[1;32m     97\u001b[0m \u001b[0;34m\u001b[0m\u001b[0m\n\u001b[0;32m---> 98\u001b[0;31m \u001b[0mimage_viewer\u001b[0m\u001b[0;34m(\u001b[0m\u001b[0;34m)\u001b[0m\u001b[0;34m\u001b[0m\u001b[0;34m\u001b[0m\u001b[0m\n\u001b[0m",
      "\u001b[0;32m<ipython-input-20-3d28d16b8b46>\u001b[0m in \u001b[0;36mimage_viewer\u001b[0;34m(img_dir, format)\u001b[0m\n\u001b[1;32m     47\u001b[0m     \u001b[0mimage_files\u001b[0m \u001b[0;34m=\u001b[0m \u001b[0mlist\u001b[0m\u001b[0;34m(\u001b[0m\u001b[0mabs_img_dir\u001b[0m\u001b[0;34m.\u001b[0m\u001b[0mglob\u001b[0m\u001b[0;34m(\u001b[0m\u001b[0;34mf\"*.{format}\"\u001b[0m\u001b[0;34m)\u001b[0m\u001b[0;34m)\u001b[0m\u001b[0;34m\u001b[0m\u001b[0;34m\u001b[0m\u001b[0m\n\u001b[1;32m     48\u001b[0m     \u001b[0;32mif\u001b[0m \u001b[0;32mnot\u001b[0m \u001b[0mimage_files\u001b[0m\u001b[0;34m:\u001b[0m\u001b[0;34m\u001b[0m\u001b[0;34m\u001b[0m\u001b[0m\n\u001b[0;32m---> 49\u001b[0;31m         \u001b[0;32mraise\u001b[0m \u001b[0mValueError\u001b[0m\u001b[0;34m(\u001b[0m\u001b[0;34mf\"No image for format {format} found in directory {abs_img_dir}.\"\u001b[0m\u001b[0;34m)\u001b[0m\u001b[0;34m\u001b[0m\u001b[0;34m\u001b[0m\u001b[0m\n\u001b[0m\u001b[1;32m     50\u001b[0m     \u001b[0mimages\u001b[0m \u001b[0;34m=\u001b[0m \u001b[0mCycle\u001b[0m\u001b[0;34m(\u001b[0m\u001b[0mimage_files\u001b[0m\u001b[0;34m)\u001b[0m\u001b[0;34m\u001b[0m\u001b[0;34m\u001b[0m\u001b[0m\n\u001b[1;32m     51\u001b[0m     image = widgets.Image(\n",
      "\u001b[0;31mValueError\u001b[0m: No image for format png found in directory /Users/peacock/Desktop/leaflet_test/Pictures."
     ]
    }
   ],
   "source": [
    "# Source: https://gist.github.com/JarnoRFB/63c8cc9407a905588f84047fd4975ddc\n",
    "# Source: https://blog.jupyter.org/introducing-templates-for-jupyter-widget-layouts-f72bcb35a662\n",
    "\n",
    "A = TypeVar('A')\n",
    "\n",
    "class Cycle(Generic[A]):\n",
    "    def __init__(self, values: List[A]):\n",
    "        self._values = values\n",
    "        self._max_idx = len(values) - 1\n",
    "        self._current_idx = 0\n",
    "    \n",
    "    def next(self) -> A:\n",
    "        if self._current_idx == self._max_idx:\n",
    "            self._current_idx = 0\n",
    "        else:\n",
    "            self._current_idx += 1\n",
    "        return self._values[self._current_idx]\n",
    "    \n",
    "    def previous(self) -> A:\n",
    "        if self._current_idx == 0:\n",
    "            self._current_idx = self._max_idx\n",
    "        else:\n",
    "            self._current_idx -= 1\n",
    "        return self._values[self._current_idx]\n",
    "    \n",
    "    def __repr__(self):\n",
    "        return f\"Cycle({self._values})\"\n",
    "    \n",
    "def image_viewer(img_dir: os.PathLike = \"./Pictures\", format: str = \"png\"):\n",
    "    \"\"\"Create an image viewer widget to view the image of a certain format inside a directory.\n",
    "    \n",
    "    Args:\n",
    "        img_dir: The directory to look for images in.\n",
    "        format: The image format to consider.\n",
    "    \"\"\"\n",
    "    header = widgets.HTML(\"<h1>Image Viewer</h1>\", layout=Layout(height=\"auto\"))\n",
    "\n",
    "    prev_button = widgets.Button(\n",
    "        description=\"Prev\", icon=\"backward\", layout=Layout(width=\"80%\", height=\"30%\")\n",
    "    )\n",
    "    \n",
    "    next_button = widgets.Button(\n",
    "        description=\"Next\", icon=\"forward\", layout=Layout(width=\"80%\", height=\"30%\")\n",
    "    )\n",
    "    \n",
    "    abs_img_dir = Path(img_dir).expanduser().absolute()\n",
    "    image_files = list(abs_img_dir.glob(f\"*.{format}\"))\n",
    "    if not image_files:\n",
    "        raise ValueError(f\"No image for format {format} found in directory {abs_img_dir}.\")\n",
    "    images = Cycle(image_files)\n",
    "    image = widgets.Image(\n",
    "        value=open(image_files[0], \"rb\").read(),\n",
    "        format=format,\n",
    "        width=\"80%\",\n",
    "        height=\"100%\",\n",
    "    )\n",
    "    \n",
    "    footer = widgets.HTML(f\"<h4>{image_files[0]}</h4>\", layout=Layout(height=\"auto\"))\n",
    "\n",
    "    \n",
    "    def update_image(filename: str):\n",
    "        with open(filename, \"rb\") as f:\n",
    "            image.value = f.read()\n",
    "    \n",
    "    \n",
    "    def update_footer(filename: str):\n",
    "        footer.value = f\"<h4>{filename}</h4>\"\n",
    "\n",
    "        \n",
    "    def update_widgets(filename: str):\n",
    "        update_image(filename)\n",
    "        update_footer(filename)\n",
    "        \n",
    "        \n",
    "    def handle_next(button):\n",
    "        update_widgets(images.next())\n",
    "        \n",
    "        \n",
    "    def handle_prev(button):\n",
    "        update_widgets(images.previous())\n",
    "\n",
    "\n",
    "    prev_button.on_click(handle_prev)\n",
    "    next_button.on_click(handle_next) \n",
    "    \n",
    "    app = AppLayout(\n",
    "        header=header,\n",
    "        left_sidebar=prev_button,\n",
    "        center=image,\n",
    "        right_sidebar=next_button,\n",
    "        footer=footer,\n",
    "        justify_items=\"center\",\n",
    "        align_items=\"center\",\n",
    "    )\n",
    "    \n",
    "    return app\n",
    "\n",
    "image_viewer()"
   ]
  },
  {
   "cell_type": "code",
   "execution_count": null,
   "metadata": {},
   "outputs": [],
   "source": []
  }
 ],
 "metadata": {
  "kernelspec": {
   "display_name": "Python 3",
   "language": "python",
   "name": "python3"
  },
  "language_info": {
   "codemirror_mode": {
    "name": "ipython",
    "version": 3
   },
   "file_extension": ".py",
   "mimetype": "text/x-python",
   "name": "python",
   "nbconvert_exporter": "python",
   "pygments_lexer": "ipython3",
   "version": "3.7.3"
  }
 },
 "nbformat": 4,
 "nbformat_minor": 2
}
