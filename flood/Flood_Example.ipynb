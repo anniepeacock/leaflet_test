{
 "cells": [
  {
   "cell_type": "markdown",
   "metadata": {},
   "source": [
    "<img src=\"inundation_banner.png\" width=\"100%\" />\n",
    "<font face=\"Arial\">\n",
    "<br><font size=\"7\"> SAR Application: Inundation Temporal Dyanimcs </font>\n",
    "<img src=\"NISAR_Mission_Logo.png\" width=\"250\" align=\"right\" />\n",
    "<font size=\"6\"> L-Band SAR Flooding and Water State Change<font color='rgba(200,0,0,0.2)'> </font>\n",
    "<br><font size=\"5\"> I. How to create SAR quicklook images of flooding? <font color='rgba(200,0,0,0.2)'> </font>    \n",
    "<br><font size=\"3\"> PolSAR HH and HV (and VV if possible) are useful products for flood area extent. For viewing, Pauli decomposition can be used for quad-pol, or HH/HV and VV/VH for dual-pol images. </font>\n",
    "<br><font size=\"5\"> II. How to interpret SAR images of flooding?<font color='rgba(200,0,0,0.2)'> </font>\n",
    "<br><font size=\"3\"> To interpret SAR images of flooding, compare the RGB image before and after the flood. L-band brightness increases over flooded forests and tall vegetation, while short vegetation and open water are dark. Co-pol signal is relatively stronger in inundated areas owing to double-bounce, and Co-pol signal component increases in areas of flood expansion. </font>"
   ]
  },
  {
   "cell_type": "markdown",
   "metadata": {
    "hide_input": false
   },
   "source": [
    "<font size=\"5\"> Hurricane Florence UAVSAR Example<font color='rgba(200,0,0,0.2)'> </font> \n",
    "<br><font size=\"3\"> Hurricane Florence was a category 4 hurricane (August 31 - September 18, 2018) that caused significant freshwater and storm surge flooding along the southeastern coast of the Carolinas. From September 17 through September 23, UAVSAR (L-Band airborne radar) flew five times over the Pee Dee River in South Carolina to collect data during and after the hurricane. This interactive map displays two Pauli RGB UAVSAR images of line peedee_15100, acquired September 17 and September 23. Between these six days, noticeable differences occurred in inundation and open water extent along the river and in nearby fields. \n",
    "    \n",
    "The overlay of the intensities of the different polarization channels, allows users to visually classify a scene by its backscattering mechanism, such as surface scattering (strong HH and VV return), volume scattering (strong HV return) and double-bounce scattering (strong HH return). Thus in RGB images, areas dominated by green (HV) intensity are typically vegetated areas. Areas dominated by shades of pink (HH+HV) intensity are typically inundated forests or vegetated fields. Black and dark grey areas are usually smooth surfaces (roads, open water, smooth bare ground) where there is very little radar backscatter.<font color='rgba(200,0,0,0.2)'> </font>"
   ]
  },
  {
   "cell_type": "code",
   "execution_count": 2,
   "metadata": {
    "hide_input": false
   },
   "outputs": [],
   "source": [
    "from ipyleaflet import (Map, basemaps, basemap_to_tiles, SplitMapControl, ImageOverlay, ScaleControl,\n",
    "                        projections, LayersControl, FullScreenControl, LocalTileLayer, LegendControl)\n",
    "import ipywidgets as widgets\n",
    "from traitlets import Bool\n",
    "from ipywidgets import AppLayout, Button, Layout, HTML\n",
    "from pathlib import Path\n",
    "from typing import *\n",
    "import os"
   ]
  },
  {
   "cell_type": "code",
   "execution_count": 3,
   "metadata": {
    "hide_input": false
   },
   "outputs": [
    {
     "data": {
      "application/vnd.jupyter.widget-view+json": {
       "model_id": "6d0cec91aec14d19b00f47177bb09292",
       "version_major": 2,
       "version_minor": 0
      },
      "text/plain": [
       "Map(center=[33.85, -79.35], controls=(ZoomControl(options=['position', 'zoom_in_text', 'zoom_in_title', 'zoom_…"
      ]
     },
     "metadata": {},
     "output_type": "display_data"
    }
   ],
   "source": [
    "# Interactive Map Inputs\n",
    "image1 = \"peedee17/{z}/{x}/{y}.png\"\n",
    "image2 = \"peedee23/{z}/{x}/{y}.png\"\n",
    "\n",
    "class CustomLocalLayer(LocalTileLayer):\n",
    "    tms = Bool(True).tag(sync=True, o=True)\n",
    "\n",
    "m = Map(basemap=basemap_to_tiles(basemaps.Esri.WorldImagery),\n",
    "    center=(33.85, -79.35),\n",
    "    zoom=9\n",
    "    \n",
    ")\n",
    "\n",
    "layer = CustomLocalLayer(tms=True, path=image1, name=\"August 17 (During Hurricane)\")\n",
    "layer2 = CustomLocalLayer(tms=True, path=image2, name=\"August 23 (Post Hurricane)\")\n",
    "\n",
    "## Ipyleaflet Controls\n",
    "control = SplitMapControl(left_layer=layer, right_layer=layer2)\n",
    "legend = LegendControl({\"HH-VV (Double Bounce)\":\"#FF0000\", \"HV + VH (Volume Scattering)\":\"#008000\", \"HH+VV (Specular Scattering)\":\"#0000FF\"}, name=\"RGB Channels\", position=\"topright\")\n",
    "description = LegendControl({\"Flooded or bare ground\":\"#261947\", \"Flooded Vegetation (double bounce)\":\"#e8cef5\", \"Vegetation\":\"#7eab91\"}, name=\"Interpretation\", position=\"topright\")\n",
    "m.add_control(legend)\n",
    "m.add_control(description)\n",
    "m.add_control(control)\n",
    "m.add_control(LayersControl())\n",
    "m.add_control(FullScreenControl())\n",
    "m.add_control(ScaleControl(position='bottomleft', metric=True, imperial=False, maxwidth=500))\n",
    "\n",
    "m"
   ]
  },
  {
   "cell_type": "markdown",
   "metadata": {
    "hide_input": false
   },
   "source": [
    "<font size=\"5\"> UAVSAR Image Time Series<font color='rgba(200,0,0,0.2)'> </font>\n",
    "<font face=\"Arial\"><br><font size=\"3\"> Changes in flooding are evident in the RGB images, even between adjacent UAVSAR data acquisitions. This slideshow shows a subset of the image located near the Pee Dee River in an area of changing flood extent along the river and neighboring open fields.<font color='rgba(200,0,0,0.2)'> </font>"
   ]
  },
  {
   "cell_type": "code",
   "execution_count": 4,
   "metadata": {
    "hide_input": false,
    "scrolled": false
   },
   "outputs": [
    {
     "ename": "ValueError",
     "evalue": "No image for format png found in directory /Users/peacock/Desktop/UAVSAR_Quicklooks/leaflet_test/subset.",
     "output_type": "error",
     "traceback": [
      "\u001b[0;31m---------------------------------------------------------------------------\u001b[0m",
      "\u001b[0;31mValueError\u001b[0m                                Traceback (most recent call last)",
      "\u001b[0;32m<ipython-input-4-f82b34a24fcf>\u001b[0m in \u001b[0;36m<module>\u001b[0;34m\u001b[0m\n\u001b[1;32m    111\u001b[0m     \u001b[0;32mreturn\u001b[0m \u001b[0mapp\u001b[0m\u001b[0;34m\u001b[0m\u001b[0;34m\u001b[0m\u001b[0m\n\u001b[1;32m    112\u001b[0m \u001b[0;34m\u001b[0m\u001b[0m\n\u001b[0;32m--> 113\u001b[0;31m \u001b[0mimage_viewer\u001b[0m\u001b[0;34m(\u001b[0m\u001b[0;34m)\u001b[0m\u001b[0;34m\u001b[0m\u001b[0;34m\u001b[0m\u001b[0m\n\u001b[0m",
      "\u001b[0;32m<ipython-input-4-f82b34a24fcf>\u001b[0m in \u001b[0;36mimage_viewer\u001b[0;34m(img_dir, format)\u001b[0m\n\u001b[1;32m     57\u001b[0m \u001b[0;34m\u001b[0m\u001b[0m\n\u001b[1;32m     58\u001b[0m     \u001b[0;32mif\u001b[0m \u001b[0;32mnot\u001b[0m \u001b[0mimage_files\u001b[0m\u001b[0;34m:\u001b[0m\u001b[0;34m\u001b[0m\u001b[0;34m\u001b[0m\u001b[0m\n\u001b[0;32m---> 59\u001b[0;31m         \u001b[0;32mraise\u001b[0m \u001b[0mValueError\u001b[0m\u001b[0;34m(\u001b[0m\u001b[0;34mf\"No image for format {format} found in directory {abs_img_dir}.\"\u001b[0m\u001b[0;34m)\u001b[0m\u001b[0;34m\u001b[0m\u001b[0;34m\u001b[0m\u001b[0m\n\u001b[0m\u001b[1;32m     60\u001b[0m     \u001b[0mimages\u001b[0m \u001b[0;34m=\u001b[0m \u001b[0mCycle\u001b[0m\u001b[0;34m(\u001b[0m\u001b[0mimage_files\u001b[0m\u001b[0;34m)\u001b[0m\u001b[0;34m\u001b[0m\u001b[0;34m\u001b[0m\u001b[0m\n\u001b[1;32m     61\u001b[0m     image = widgets.Image(\n",
      "\u001b[0;31mValueError\u001b[0m: No image for format png found in directory /Users/peacock/Desktop/UAVSAR_Quicklooks/leaflet_test/subset."
     ]
    }
   ],
   "source": [
    "# Source: https://gist.github.com/JarnoRFB/63c8cc9407a905588f84047fd4975ddc\n",
    "# Source: https://blog.jupyter.org/introducing-templates-for-jupyter-widget-layouts-f72bcb35a662\n",
    "\n",
    "A = TypeVar('A')\n",
    "\n",
    "class Cycle(Generic[A]):\n",
    "    def __init__(self, values: List[A]):\n",
    "        self._values = values\n",
    "        self._max_idx = len(values) - 1\n",
    "        self._current_idx = 0\n",
    "    \n",
    "    def next(self) -> A:\n",
    "        if self._current_idx == self._max_idx:\n",
    "            self._current_idx = 0\n",
    "        else:\n",
    "            self._current_idx += 1\n",
    "        return self._values[self._current_idx]\n",
    "    \n",
    "    def previous(self) -> A:\n",
    "        if self._current_idx == 0:\n",
    "            self._current_idx = self._max_idx\n",
    "        else:\n",
    "            self._current_idx -= 1\n",
    "        return self._values[self._current_idx]\n",
    "    \n",
    "    def __repr__(self):\n",
    "        return f\"Cycle({self._values})\"\n",
    "    \n",
    "def image_viewer(img_dir: os.PathLike = \"./subset\", format: str = \"png\"):\n",
    "    \"\"\"Create an image viewer widget to view the image of a certain format inside a directory.\n",
    "    \n",
    "    Args:\n",
    "        img_dir: The directory to look for images in.\n",
    "        format: The image format to consider.\n",
    "    \"\"\"\n",
    "\n",
    "    prev_button = widgets.Button(\n",
    "        description=\"Prev\", icon=\"backward\", layout=Layout(width=\"50%\", height=\"30%\")\n",
    "    )\n",
    "    \n",
    "    next_button = widgets.Button(\n",
    "        description=\"Next\", icon=\"forward\", layout=Layout(width=\"50%\", height=\"30%\")\n",
    "    )\n",
    "    \n",
    "    import os\n",
    "    from datetime import datetime\n",
    "    \n",
    "    abs_img_dir = Path(img_dir).expanduser().absolute()\n",
    "    image_files = list(abs_img_dir.glob(f\"*.{format}\"))\n",
    "    image_files = sorted(image_files)\n",
    "    \n",
    "    #files = []\n",
    "    #for infile in sorted(image_files): \n",
    "    #    base = os.path.basename(infile)\n",
    "    #    files.append(base)\n",
    "\n",
    "    \n",
    "    if not image_files:\n",
    "        raise ValueError(f\"No image for format {format} found in directory {abs_img_dir}.\")\n",
    "    images = Cycle(image_files)\n",
    "    image = widgets.Image(\n",
    "        value=open(image_files[0], \"rb\").read(),\n",
    "        format=format,\n",
    "        width=\"90%\",\n",
    "        height=\"100%\",\n",
    "    )\n",
    "    \n",
    "    #header = widgets.HTML(f\"<h2>{files[0]}</h2>\", layout=Layout(height=\"auto\"))\n",
    "\n",
    "\n",
    "    footer = widgets.HTML(f\"<h4>{image_files[0]}</h4>\", layout=Layout(height=\"auto\"))\n",
    "\n",
    "    \n",
    "    def update_image(filename: str):\n",
    "        with open(filename, \"rb\") as f:\n",
    "            image.value = f.read()\n",
    "    \n",
    "    #def update_header(filename: str):\n",
    "    #    header.value = f\"<h1>{filename}</h1>\"\n",
    "    \n",
    "    def update_footer(filename: str):\n",
    "        footer.value = f\"<h4>{filename}</h4>\"\n",
    "\n",
    "        \n",
    "    def update_widgets(filename: str):\n",
    "        update_image(filename)\n",
    "        update_footer(filename)\n",
    "        \n",
    "        \n",
    "    def handle_next(button):\n",
    "        update_widgets(images.next())\n",
    "        \n",
    "        \n",
    "    def handle_prev(button):\n",
    "        update_widgets(images.previous())\n",
    "\n",
    "\n",
    "    prev_button.on_click(handle_prev)\n",
    "    next_button.on_click(handle_next) \n",
    "    \n",
    "    app = AppLayout(\n",
    "        #header=header,\n",
    "        left_sidebar=prev_button,\n",
    "        center=image,\n",
    "        right_sidebar=next_button,\n",
    "        footer=footer,\n",
    "        justify_items=\"center\",\n",
    "        align_items=\"center\",\n",
    "    )\n",
    "    \n",
    "    return app\n",
    "\n",
    "image_viewer()"
   ]
  },
  {
   "cell_type": "code",
   "execution_count": null,
   "metadata": {
    "hide_input": false
   },
   "outputs": [],
   "source": []
  },
  {
   "cell_type": "code",
   "execution_count": null,
   "metadata": {},
   "outputs": [],
   "source": []
  }
 ],
 "metadata": {
  "kernelspec": {
   "display_name": "Python 3",
   "language": "python",
   "name": "python3"
  },
  "language_info": {
   "codemirror_mode": {
    "name": "ipython",
    "version": 3
   },
   "file_extension": ".py",
   "mimetype": "text/x-python",
   "name": "python",
   "nbconvert_exporter": "python",
   "pygments_lexer": "ipython3",
   "version": "3.7.3"
  }
 },
 "nbformat": 4,
 "nbformat_minor": 2
}
