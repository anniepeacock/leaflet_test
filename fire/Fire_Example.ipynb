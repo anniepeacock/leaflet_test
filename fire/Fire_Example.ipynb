{
 "cells": [
  {
   "cell_type": "markdown",
   "metadata": {},
   "source": [
    "<font face=\"Arial\"><br>\n",
    "<font size=\"7\"> SAR Application: Fire Extent Detection and Mapping </font>\n",
    "<img src=\"uavsar.png\" width=\"250\" align=\"right\" /> <br> \n",
    "<font size=\"6\"> L-Band SAR Fire Scar<font color='rgba(200,0,0,0.2)'> </font> \n",
    "<br><font size=\"5\"> I. How to create SAR quicklook images of fire extent? <font color='rgba(200,0,0,0.2)'> </font> \n",
    "<br><font size=\"3\"> PolSAR HH and HV (and VV if possible) are useful products for fire extent. For viewing, Pauli decomposition can be used for quad-pol, or HH/HV and VV/VH for dual-pol images. Grayscale coherence correlation products can also highlight areas of change. Coherence product values range 0-1. To view, use the same scale for \"before\" and \"after\" image to facilitate comparison. </font>\n",
    "<br><font size=\"5\">  II. How to interpret SAR images of fire extent?<font color='rgba(200,0,0,0.2)'> </font> \n",
    "<br><font size=\"3\"> To interpret SAR images of burned areas, compare fire scar with vegetation in the same area. Area impacted by fire should show increase HH component (bare ground) and lower vegetation component (HV). \n",
    "\n",
    "For interpreting coherence products, compare image pairs with increasing temporal separation up to a maximum that is determined empirically. After a number of days, the entire image is decorrelated.\tClose to black: open water bodies that decorrelate the fastest. Dark gray= decorrelated due to fire. Mid-gray and white have higher coherence or experienced less disturbance. </font>"
   ]
  },
  {
   "cell_type": "markdown",
   "metadata": {},
   "source": [
    "<font size=\"6\"> Verdugo Fire UAVSAR Example<font color='rgba(200,0,0,0.2)'> </font>\n",
    "<font face=\"Arial\"><br><font size=\"3\"> \n",
    "The La Tuna Fire burned over 7,000 acres of the Verdugo Mountains in Los Angeles, California, making it the largest wildfire in the city of Los Angeles in the last 50 years. The fire started September 1, 2017 and was 100% contained by September 9.   \n",
    "    \n",
    "This interactive map displays two Pauli RGB UAVSAR images of line SanAnd_08525, acquired June 24, 2014 (Pre-fire) and November 02, 2017 (Post-fire). Between these acquisitions, the fire scar on the Western side of the mountains is evident. \n",
    "\n",
    "The overlay of the intensities of the different polarization channels, allows users to visually classify a scene by its backscattering mechanism, such as surface scattering (strong HH and VV return), volume scattering (strong HV return) and double-bounce scattering (strong HH return). Thus in RGB images, areas dominated by green (HV) intensity are typically vegetated areas. Areas dominated by shades of pink (HH+HV) intensity are typically inundated forests or vegetated fields. Black and dark grey areas are usually smooth surfaces (roads, open water, smooth bare ground) where there is very little radar backscatter.   \n",
    "\n",
    "The coherence product of this image pair also highlights this area of disturbance, with lower coherence values. \n",
    "    <font color='rgba(200,0,0,0.2)'> </font> </font>"
   ]
  },
  {
   "cell_type": "code",
   "execution_count": 37,
   "metadata": {
    "hide_input": true
   },
   "outputs": [],
   "source": [
    "from ipyleaflet import (Map, basemaps, basemap_to_tiles, SplitMapControl, ImageOverlay, ScaleControl,\n",
    "                        projections, LayersControl, FullScreenControl, LocalTileLayer, LegendControl)\n",
    "import ipywidgets as widgets\n",
    "from traitlets import Bool\n",
    "from ipywidgets import AppLayout, Button, Layout, HTML\n",
    "from pathlib import Path\n",
    "from typing import *\n",
    "import os"
   ]
  },
  {
   "cell_type": "code",
   "execution_count": 34,
   "metadata": {
    "hide_input": true
   },
   "outputs": [
    {
     "data": {
      "application/vnd.jupyter.widget-view+json": {
       "model_id": "93e8735da5b34497b1b58ddd534175a2",
       "version_major": 2,
       "version_minor": 0
      },
      "text/plain": [
       "Map(center=[34.22, -118.3], controls=(ZoomControl(options=['position', 'zoom_in_text', 'zoom_in_title', 'zoom_…"
      ]
     },
     "metadata": {},
     "output_type": "display_data"
    }
   ],
   "source": [
    "# Interactive Map Inputs\n",
    "image1 = \"2014_verdugo/{z}/{x}/{y}.png\"\n",
    "image2 = \"2017_verdugo/{z}/{x}/{y}.png\"\n",
    "image3 = \"verdugo_coherence/{z}/{x}/{y}.png\"\n",
    "\n",
    "class CustomLocalLayer(LocalTileLayer):\n",
    "    tms = Bool(True).tag(sync=True, o=True)\n",
    "\n",
    "m = Map(basemap=basemap_to_tiles(basemaps.Esri.WorldImagery),\n",
    "    center=(34.22, -118.3),\n",
    "    zoom=12\n",
    "    \n",
    ")\n",
    "\n",
    "layer = CustomLocalLayer(tms=True, path=image1, name=\"June 2014 (Pre-Fire)\")\n",
    "layer2 = CustomLocalLayer(tms=True, path=image2, name=\"November 2017 (Post-Fire)\")\n",
    "layer3 = CustomLocalLayer(tms=True, path=image3, name=\"Coherence\")\n",
    "\n",
    "## Ipyleaflet Controls\n",
    "control = SplitMapControl(left_layer=layer, right_layer=layer2)\n",
    "legend = LegendControl({\"HH-VV (Double Bounce)\":\"#FF0000\", \"HV + VH (Volume Scattering)\":\"#008000\", \"HH+VV (Specular Scattering)\":\"#0000FF\"}, name=\"RGB Channels\", position=\"topright\")\n",
    "description = LegendControl({\"Bare ground\":\"#261947\", \"Urban (double bounce)\":\"#e8cef5\", \"Vegetation\":\"#7eab91\"}, name=\"Interpretation\", position=\"topright\")\n",
    "m.add_control(legend)\n",
    "m.add_control(description)\n",
    "m.add_control(control)\n",
    "m.add_control(LayersControl())\n",
    "m.add_control(FullScreenControl())\n",
    "m.add_control(ScaleControl(position='bottomleft', metric=True, imperial=False, maxwidth=500))\n",
    "\n",
    "m"
   ]
  },
  {
   "cell_type": "markdown",
   "metadata": {
    "hide_input": true
   },
   "source": [
    "<font size=\"5\"> UAVSAR Image Coherence<font color='rgba(200,0,0,0.2)'> </font>\n",
    "<font face=\"Arial\"><br>\n",
    "<font size=\"3\"> \n",
    "Changes in flooding are evident in the RGB images, even between adjacent UAVSAR data acquisitions. This slideshow shows a subset of the image located near the Pee Dee River in an area of changing flood extent along the river and neighboring open fields.\n",
    "    <font color='rgba(200,0,0,0.2)'> </font>"
   ]
  },
  {
   "cell_type": "code",
   "execution_count": null,
   "metadata": {},
   "outputs": [],
   "source": []
  }
 ],
 "metadata": {
  "kernelspec": {
   "display_name": "Python 3",
   "language": "python",
   "name": "python3"
  },
  "language_info": {
   "codemirror_mode": {
    "name": "ipython",
    "version": 3
   },
   "file_extension": ".py",
   "mimetype": "text/x-python",
   "name": "python",
   "nbconvert_exporter": "python",
   "pygments_lexer": "ipython3",
   "version": "3.7.3"
  }
 },
 "nbformat": 4,
 "nbformat_minor": 2
}
